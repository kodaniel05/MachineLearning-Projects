{
 "cells": [
  {
   "cell_type": "markdown",
   "id": "b0894695",
   "metadata": {},
   "source": [
    "\n",
    "# LLMs: Introduction to Text Data (Python)\n",
    "\n",
    "**Dataset:** `'/anvil/projects/tdm/data/amazon/music.txt'` (~2GB).  \n",
    "We stream the file to avoid loading it entirely.\n",
    "\n",
    "**Implement:**\n",
    "- `read_lines` (chunked reader)\n",
    "- `clean_text` (escape decoding & normalization)\n",
    "- `word_count` + summary stats on first 500 reviews\n",
    "- `char_freq` + `plot_char_freq`\n",
    "- `caesar_cipher`\n"
   ]
  },
  {
   "cell_type": "code",
   "execution_count": 2,
   "id": "225e2756",
   "metadata": {},
   "outputs": [],
   "source": [
    "from pathlib import Path\n",
    "import codecs\n",
    "import numpy as np\n",
    "import matplotlib.pyplot as plt\n",
    "\n",
    "DATA_PATH = Path('/anvil/projects/tdm/data/amazon/music.txt')\n",
    "FALLBACK_PATH = Path('music_fallback.txt')\n"
   ]
  },
  {
   "cell_type": "markdown",
   "id": "5e7048ee",
   "metadata": {},
   "source": [
    "\n",
    "## Question 1 Treaming Reader\n"
   ]
  },
  {
   "cell_type": "code",
   "execution_count": 3,
   "id": "68bf1004",
   "metadata": {},
   "outputs": [
    {
     "name": "stdout",
     "output_type": "stream",
     "text": [
      "['\"I love this CD.  So inspiring!\"\\n', '\"Love it!!  Great seller!\"\\n']\n",
      "['\"Item arrived quickly and was as described!\"\\n', '\"I love this CD!  It was a Christmas gift from my husband and he did a great job picking it out for me!\"\\n']\n"
     ]
    }
   ],
   "source": [
    "def read_lines(file_path, n, start=0):\n",
    "    lines = []\n",
    "    with open(file_path, 'r', encoding='utf-8', errors='replace') as f:\n",
    "        for i, line in enumerate(f):\n",
    "            if i < start:\n",
    "                continue\n",
    "            if i >= start + n:\n",
    "                break\n",
    "            lines.append(line if line.endswith('\\n') else line)\n",
    "    return lines\n",
    "\n",
    "# Tests (content depends on dataset availability)\n",
    "print(read_lines(USE_PATH, 2))\n",
    "print(read_lines(USE_PATH, 2, 50))\n"
   ]
  },
  {
   "cell_type": "markdown",
   "id": "15eab9ad",
   "metadata": {},
   "source": [
    "\n",
    "## Question 2 - Cleaning Function & Inspecting Lines 68 and 150\n"
   ]
  },
  {
   "cell_type": "code",
   "execution_count": 4,
   "id": "df89a5ec",
   "metadata": {},
   "outputs": [
    {
     "name": "stdout",
     "output_type": "stream",
     "text": [
      "I love this CD. So inspiring!\n",
      "Amazing! It is wonderful\n",
      "Contractions like can't and won't should also work\n",
      "Raw[68]: '\"Loved everything ~  arrangements, story line.\\\\nNegative  ?? ?  Could have listened for another hour.\"\\n'\n",
      "Clean[68]: Loved everything ~ arrangements, story line. Negative ?? ? Could have listened for another hour.\n",
      "Raw[150]: '\"I love this CD! It is always part of my Christmas music. The driving rhythms and story told mark it as originating from...'\n",
      "Clean[150]: I love this CD! It is always part of my Christmas music. The driving rhythms and story told mark it as originating from ...\n"
     ]
    }
   ],
   "source": [
    "def clean_text(text: str) -> str:\n",
    "    if text is None:\n",
    "        return \"\"\n",
    "    try:\n",
    "        decoded = codecs.decode(text, 'unicode_escape')\n",
    "    except Exception:\n",
    "        decoded = text\n",
    "    s = decoded.strip()\n",
    "    if len(s) >= 2 and s[0] == '\"' and s[-1] == '\"':\n",
    "        s = s[1:-1]\n",
    "    s = s.replace('\\n', ' ').replace('\\r', ' ').replace('\\t', ' ')\n",
    "    s = ' '.join(s.split())\n",
    "    return s\n",
    "\n",
    "# Tests\n",
    "print(clean_text('\"I love this CD.  So inspiring!\"'))\n",
    "print(clean_text('\"Amazing!\\nIt is wonderful\"'))\n",
    "print(clean_text('\"Contractions like can\\'t and won\\'t should also work\"'))\n",
    "\n",
    "# Inspect requested indices\n",
    "for idx in (68, 150):\n",
    "    lines = read_lines(USE_PATH, 1, idx)\n",
    "    if lines:\n",
    "        raw = lines[0]\n",
    "        print(f\"Raw[{idx}]:\", repr(raw[:120] + ('...' if len(raw)>120 else '')))\n",
    "        print(f\"Clean[{idx}]:\", clean_text(raw)[:120] + ('...' if len(clean_text(raw))>120 else ''))\n",
    "    else:\n",
    "        print(f\"Index {idx} not available in current file.\")\n"
   ]
  },
  {
   "cell_type": "markdown",
   "id": "18e0984d",
   "metadata": {},
   "source": [
    "\n",
    "## Question 3 — Word Count & Summary over First 500 Reviews\n"
   ]
  },
  {
   "cell_type": "code",
   "execution_count": 5,
   "id": "7da771e8",
   "metadata": {},
   "outputs": [
    {
     "name": "stdout",
     "output_type": "stream",
     "text": [
      "6\n",
      "4\n",
      "8\n",
      "Average word count (first 500): 25.22\n",
      "Max word count: 898\n",
      "Min word count: 1\n"
     ]
    }
   ],
   "source": [
    "\n",
    "def word_count(text: str) -> int:\n",
    "    return len(text.split()) if text else 0\n",
    "\n",
    "# Tests\n",
    "print(word_count('I love this CD.  So inspiring!'))        # 6\n",
    "print(word_count('Amazing! It is wonderful'))              # 4\n",
    "print(word_count(\"Contractions like can't and won't should also work\"))  # 8\n",
    "\n",
    "# Stats on first 500 (or fewer if file smaller)\n",
    "N = 500\n",
    "first_lines = read_lines(USE_PATH, N, 0)\n",
    "cleaned = [clean_text(s) for s in first_lines]\n",
    "counts = [word_count(s) for s in cleaned]\n",
    "\n",
    "if counts:\n",
    "    avg_wc = float(np.mean(counts))\n",
    "    max_wc = int(np.max(counts))\n",
    "    min_wc = int(np.min(counts))\n",
    "    print(f\"Average word count (first {len(counts)}): {avg_wc:.2f}\")\n",
    "    print(\"Max word count:\", max_wc)\n",
    "    print(\"Min word count:\", min_wc)\n",
    "else:\n",
    "    print(\"No lines to analyze in this environment.\")\n"
   ]
  },
  {
   "cell_type": "markdown",
   "id": "2a1faf40",
   "metadata": {},
   "source": [
    "\n",
    "## Question 4 — Character Frequencies & Plot\n"
   ]
  },
  {
   "cell_type": "code",
   "execution_count": 6,
   "id": "74d5601a",
   "metadata": {},
   "outputs": [
    {
     "data": {
      "image/png": "[encoded data removed]",
      "text/plain": [
       "<Figure size 600x300 with 1 Axes>"
      ]
     },
     "metadata": {},
     "output_type": "display_data"
    }
   ],
   "source": [
    "\n",
    "def char_freq(text: str):\n",
    "    d = {}\n",
    "    for ch in text:\n",
    "        d[ch] = d.get(ch, 0) + 1\n",
    "    return d\n",
    "\n",
    "def plot_char_freq(freq_dict):\n",
    "    if not freq_dict:\n",
    "        print(\"Empty dictionary.\")\n",
    "        return\n",
    "    keys = list(freq_dict.keys())\n",
    "    vals = [freq_dict[k] for k in keys]\n",
    "    plt.figure(figsize=(6,3))\n",
    "    plt.bar(keys, vals)\n",
    "    plt.title(\"Character Frequencies\")\n",
    "    plt.xlabel(\"Character\")\n",
    "    plt.ylabel(\"Count\")\n",
    "    plt.tight_layout()\n",
    "    plt.show()\n",
    "\n",
    "# Test plot\n",
    "plot_char_freq(char_freq('aaaabbbccd'))\n"
   ]
  },
  {
   "cell_type": "markdown",
   "id": "b3ef0076",
   "metadata": {},
   "source": [
    "\n",
    "## Question 5 — Caesar Cipher\n"
   ]
  },
  {
   "cell_type": "code",
   "execution_count": 7,
   "id": "14a7763c",
   "metadata": {},
   "outputs": [
    {
     "name": "stdout",
     "output_type": "stream",
     "text": [
      "DEFG\n",
      "ABCD\n",
      "MJQQT BTWQI\n"
     ]
    }
   ],
   "source": [
    "def caesar_cipher(text: str, shift: int) -> str:\n",
    "    shift %= 26\n",
    "    out = []\n",
    "    for ch in text:\n",
    "        if 'A' <= ch <= 'Z':\n",
    "            idx = ord(ch) - ord('A')\n",
    "            out.append(chr(ord('A') + (idx + shift) % 26))\n",
    "        else:\n",
    "            out.append(ch)\n",
    "    return ''.join(out)\n",
    "\n",
    "print(caesar_cipher('ABCD', 3))          # DEFG\n",
    "print(caesar_cipher('DEFG', -3))         # ABCD\n",
    "print(caesar_cipher('HELLO WORLD', 5))   # MJQQT BTWQI\n"
   ]
  }
 ],
 "metadata": {
  "kernelspec": {
   "display_name": "seminar",
   "language": "python",
   "name": "python3"
  },
  "language_info": {
   "codemirror_mode": {
    "name": "ipython",
    "version": 3
   },
   "file_extension": ".py",
   "mimetype": "text/x-python",
   "name": "python",
   "nbconvert_exporter": "python",
   "pygments_lexer": "ipython3",
   "version": "3.12.11"
  }
 },
 "nbformat": 4,
 "nbformat_minor": 5
}
